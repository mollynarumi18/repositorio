{
 "cells": [
  {
   "cell_type": "markdown",
   "id": "5ca3061b-3b5a-4103-b148-1f1def62757f",
   "metadata": {},
   "source": [
    "### <center><u><b><p style=\"color:Darkred;\">Impacto en la medicina</p></b></u></center>\n",
    "La inteligencia artificial está transformando radicalmente el campo de la medicina y el diagnóstico. Con avances significativos en el aprendizaje automático y el procesamiento de datos, los sistemas de inteligencia artificial pueden analizar grandes cantidades de información médica de manera rápida y precisa, lo que ayuda a los profesionales de la salud a tomar decisiones fundamentadas."
   ]
  },
  {
   "cell_type": "markdown",
   "id": "f47bb0cb-038c-4ffb-aa1a-3d8895ccb7b8",
   "metadata": {},
   "source": [
    "<br><center>![RLS](https://cdn-3.expansion.mx/dims4/default/8a57ea0/2147483647/strip/true/crop/1200x628+0+0/resize/1800x942!/format/webp/quality/80/?url=https%3A%2F%2Fcdn-3.expansion.mx%2F80%2Fb9%2F6688f8824428a706c1f9385f4522%2Finteligencia-artificial-salud-expansion-1200x628.jpg)</center></br>\n"
   ]
  },
  {
   "cell_type": "markdown",
   "id": "97aeee43-04f3-4485-8b52-5fb6abe2bdd1",
   "metadata": {},
   "source": [
    "### <center><u><b><p style=\"color:Darkred;\">Impacto en el diagnóstico de enfermedades</p></b></u></center>\n",
    "\n",
    "La inteligencia artificial está cambiando la forma en que se hacen los diagnósticos médicos. Con algoritmos avanzados y potentes sistemas informáticos, los médicos pueden obtener diagnósticos más rápidos y precisos. La inteligencia artificial puede analizar grandes cantidades de datos de pacientes, como síntomas, resultados de pruebas y antecedentes médicos, para identificar patrones y señales que podrían pasar desapercibidos para los seres humanos.\n",
    "\n",
    "Aquí algunos algoritmos que utilizan en el diagnóstico:\n",
    "\n",
    "#### Redes Neuronales Convolucionales (CNN):\n",
    "Las CNN no tienen una fórmula específica, ya que consisten en múltiples capas de convolución, activación y agrupación. Sin embargo, la operación básica en una capa convolucional puede representarse así:\n",
    "\n",
    "$$h(x, W) = f(W * x + b)$$\r\n",
    "Donde x es la entrada, W es el conjunto de pesos, b es el sesgo, * representa la operación de convulción,\n",
    "y f es la función de activación.\n",
    "\n",
    "\n",
    "#### Redes Neuronales Recurrentes (RNN):\n",
    "Las RNN se utilizan para datos secuenciales, como series de tiempo o texto. La fórmula básica para una celda de una RNN es:\n",
    "\n",
    "$$h_t = σ(W_{hh}h_{t-1} + W_{xh}x_t + b_h)$$\n",
    "\n",
    "Donde ht es el estado oculto en el tiempo t, xt es la entrada en el tiempo t, Whh y Wxh son los pesos, bh es el sesgo, y σ es la función de activación.\r\n",
    "$\n",
    "es:\r\n"
   ]
  },
  {
   "cell_type": "markdown",
   "id": "9c6d8729-a0d8-442d-a4d1-8ee728586b8b",
   "metadata": {},
   "source": [
    "### Árboles de Decisión:\n",
    "Los árboles de decisión dividen los datos en ramas utilizando reglas de decisión. Aunque no tienen una fórmula específica, la fórmula general para predecir la clase C de una instancia x es:\n",
    "\n",
    "\n",
    "$$CC = argmax_c (∑_{i=1}^{N} I(y_i = c))$$\n",
    "\n",
    "Donde N es el número de instancias en el nodo hoja yi, es la clase de la instancia i, y I(.) es la función indicadora que devuelve 1 si la condición es verdadera y 0 de lo contrario.\n"
   ]
  },
  {
   "cell_type": "code",
   "execution_count": null,
   "id": "f6455c64-0582-47fa-8372-eaa7f75d05dc",
   "metadata": {},
   "outputs": [],
   "source": []
  }
 ],
 "metadata": {
  "kernelspec": {
   "display_name": "Python 3 (ipykernel)",
   "language": "python",
   "name": "python3"
  },
  "language_info": {
   "codemirror_mode": {
    "name": "ipython",
    "version": 3
   },
   "file_extension": ".py",
   "mimetype": "text/x-python",
   "name": "python",
   "nbconvert_exporter": "python",
   "pygments_lexer": "ipython3",
   "version": "3.11.7"
  }
 },
 "nbformat": 4,
 "nbformat_minor": 5
}
